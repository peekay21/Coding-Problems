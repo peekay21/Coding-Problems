{
 "cells": [
  {
   "cell_type": "code",
   "execution_count": 4,
   "metadata": {},
   "outputs": [],
   "source": [
    "def max_length_find(arr):\n",
    "    max_length =0\n",
    "    for i in range(len(arr)):\n",
    "        cur_length = 0\n",
    "        j = i\n",
    "        sum_func = 0\n",
    "        while True:\n",
    "            if arr[j] ==0:\n",
    "                sum_func -=1\n",
    "            else:\n",
    "                sum_func +=1\n",
    "            \n",
    "            cur_length +=1\n",
    "            j +=1\n",
    "            if j== len(arr) or sum_func ==0:\n",
    "                break\n",
    "                \n",
    "        \n",
    "        if cur_length > max_length and sum_func==0:\n",
    "            max_length = cur_length\n",
    "    \n",
    "    return max_length\n",
    "        "
   ]
  },
  {
   "cell_type": "code",
   "execution_count": 6,
   "metadata": {},
   "outputs": [
    {
     "name": "stdout",
     "output_type": "stream",
     "text": [
      "6\n"
     ]
    }
   ],
   "source": [
    "arr = [0,0,1,1,0,0,0,1,1,1]\n",
    "print(max_length_find(arr))"
   ]
  },
  {
   "cell_type": "code",
   "execution_count": 11,
   "metadata": {},
   "outputs": [],
   "source": [
    "def number_of_subarray(a,k):\n",
    "    sum1 = 0\n",
    "    prefix_array = []\n",
    "    count = 0\n",
    "    for i in range(len(a)):\n",
    "        sum1 += a[i]\n",
    "        prefix_array.append(sum1)\n",
    "        if (sum1-k) ==0 or (sum1-k) in prefix_array:\n",
    "            count +=1\n",
    "            print(prefix_array)\n",
    "    \n",
    "    \n",
    "    return count\n",
    "    "
   ]
  },
  {
   "cell_type": "code",
   "execution_count": 12,
   "metadata": {},
   "outputs": [
    {
     "name": "stdout",
     "output_type": "stream",
     "text": [
      "[3, 7]\n",
      "[3, 7, 14]\n",
      "[3, 7, 14, 16, 13, 14]\n",
      "[3, 7, 14, 16, 13, 14, 18, 20]\n",
      "4\n"
     ]
    }
   ],
   "source": [
    "a = [3,4,7,2,-3,1,4,2]\n",
    "print(number_of_subarray(a,7))"
   ]
  },
  {
   "cell_type": "code",
   "execution_count": 19,
   "metadata": {},
   "outputs": [],
   "source": [
    "def smallest_possible(a,k):\n",
    "    if len(a) ==0 or len(a) == k:\n",
    "        return ''\n",
    "    smallest = '999999999'\n",
    "    for i in range(len(a)-k):\n",
    "        if int(smallest) >= int(a[0:i]+a[i+k:]):\n",
    "            smallest = a[0:i]+a[i+k:]\n",
    "            \n",
    "    return smallest\n",
    "    "
   ]
  },
  {
   "cell_type": "code",
   "execution_count": 23,
   "metadata": {},
   "outputs": [
    {
     "data": {
      "text/plain": [
       "'13729'"
      ]
     },
     "execution_count": 23,
     "metadata": {},
     "output_type": "execute_result"
    }
   ],
   "source": [
    "a ='143729'\n",
    "k = 1\n",
    "\n",
    "smallest_possible(a,k)"
   ]
  },
  {
   "cell_type": "markdown",
   "metadata": {},
   "source": [
    "# Remove k digit from string"
   ]
  },
  {
   "cell_type": "code",
   "execution_count": null,
   "metadata": {},
   "outputs": [],
   "source": [
    "def remove_k_digit(a, k):\n",
    "    if len(a) ==0 or k == len(a):\n",
    "        return ''\n",
    "    stack = ''\n",
    "    i = 1\n",
    "    count = k \n",
    "    while count > 0:\n",
    "        \n",
    "        if len(stack) > 0 and stack[len(stack) - 1] > a[i]:\n",
    "            stack.pop()\n",
    "            stack.append(a[i])\n",
    "            count -=1\n",
    "        \n",
    "        i +=1\n",
    "        \n",
    "    return stack + \n",
    "            \n",
    "        "
   ]
  }
 ],
 "metadata": {
  "kernelspec": {
   "display_name": "Python [conda env:deeplearning] *",
   "language": "python",
   "name": "conda-env-deeplearning-py"
  },
  "language_info": {
   "codemirror_mode": {
    "name": "ipython",
    "version": 3
   },
   "file_extension": ".py",
   "mimetype": "text/x-python",
   "name": "python",
   "nbconvert_exporter": "python",
   "pygments_lexer": "ipython3",
   "version": "3.7.7"
  }
 },
 "nbformat": 4,
 "nbformat_minor": 4
}
