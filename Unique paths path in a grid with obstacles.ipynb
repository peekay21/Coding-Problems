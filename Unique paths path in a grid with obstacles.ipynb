{
 "cells": [
  {
   "cell_type": "markdown",
   "metadata": {},
   "source": [
    "# Unique paths in a Grid with obstacles\n",
    "------------------------------\n",
    "### Given a grid of size m* n, let us assume you are staring at (1,1) and your goal is to reach (m,n). At any instance, if you are on (x,y), you can either go to (x, y+1) or (x+1,y)\n",
    "### Now consider if some obstacles are added to the grids. How many unique paths would there be? \n",
    "### A n obstacle and empty space are marked as 1 and 0 respectively in the grid.\n",
    "\n"
   ]
  },
  {
   "cell_type": "markdown",
   "metadata": {},
   "source": [
    "Examples:\n",
    "Input: \n",
    "        [\n",
    "        [0,0,0],\n",
    "        [0,1,0],\n",
    "        [0,0,0]\n",
    "        ]\n",
    "Output: 2 \n",
    "There is only one obstacle in the middle."
   ]
  },
  {
   "cell_type": "markdown",
   "metadata": {},
   "source": [
    "1. Recursion Solution:"
   ]
  },
  {
   "cell_type": "code",
   "execution_count": 28,
   "metadata": {},
   "outputs": [
    {
     "name": "stdout",
     "output_type": "stream",
     "text": [
      "Number of unique paths in the given grid is 2\n"
     ]
    }
   ],
   "source": [
    "# Function for traverse through grid\n",
    "def dfs(a,i,j,m,n):\n",
    "    if i>m-1 or j > n-1 or a[i][j] ==1: # check boundary solution and whether presents of obstacles or not\n",
    "        return 0\n",
    "    if i==m-1 and j==n-1: # check whether reach destination or not\n",
    "        return 1\n",
    "    return dfs(a,i+1,j,m,n) + dfs(a,i,j+1, m, n) # increament in right and lower side\n",
    "\n",
    "# Function for calculate the number of unique paths in a grid\n",
    "def unique_path(arr): \n",
    "    m = len(arr) # number of rows\n",
    "    n = len(arr[0]) # number of columns\n",
    "    return dfs(arr, 0,0,m,n)  \n",
    " \n",
    "\n",
    "# main function\n",
    "if __name__ == '__main__':\n",
    "    arr = [\n",
    "        [0,0,0],\n",
    "        [0,1,0],\n",
    "        [0,0,0]\n",
    "        ]\n",
    "    print('Number of unique paths in the given grid is {}'.format(unique_path(arr)))"
   ]
  },
  {
   "cell_type": "markdown",
   "metadata": {},
   "source": [
    "2. Dynamic Programminng solution:"
   ]
  },
  {
   "cell_type": "code",
   "execution_count": 30,
   "metadata": {},
   "outputs": [
    {
     "name": "stdout",
     "output_type": "stream",
     "text": [
      "Number of unique paths in the given grid is 2\n"
     ]
    }
   ],
   "source": [
    "# Function approach is dynamic programming approach to solve this problem\n",
    "def grid_problem(arr):\n",
    "    m = len(arr) # number of rows\n",
    "    n = len(arr[0]) # number of columns \n",
    "    \n",
    "    \n",
    "    # check the initial cell of the grid \n",
    "    # whether it is block \n",
    "    if  arr[0][0]:\n",
    "        return 0\n",
    "    # if not assign value to that grid is 1\n",
    "    arr[0][0] = 1\n",
    "    \n",
    "    # assign value of 0'th row to each column\n",
    "    for j in range(1,n):\n",
    "        if arr[0][j]==0: # if it is 0 , assign the previous value\n",
    "            arr[0][j] = arr[0][j-1]\n",
    "        else: # else 0\n",
    "            arr[0][j] = 0\n",
    "            \n",
    "    # assign value to 0'th column of each row\n",
    "    for i in range(1,m):\n",
    "        if arr[i][0] ==0: # if it is 0 assign upper value \n",
    "            arr[i][0] = arr[i-1][0]\n",
    "        else: # else 0\n",
    "            arr[i][0] = 0\n",
    "    \n",
    "    # iterate though each row's column and assign value\n",
    "    for i in range(1,m):\n",
    "        for j in range(1,n):\n",
    "            if arr[i][j] == 0: # if it is 0 , then assign the value of summation of upper and left value\n",
    "                arr[i][j] = arr[i-1][j] + arr[i][j-1] \n",
    "            else: # if obstacle presents then assign 0\n",
    "                arr[i][j] = 0\n",
    "\n",
    "    return arr[m-1][n-1]  # return the last value\n",
    "\n",
    "if __name__ == '__main__':\n",
    "    arr = [\n",
    "        [0,0,0],\n",
    "        [0,1,0],\n",
    "        [0,0,0]\n",
    "        ]\n",
    "    print('Number of unique paths in the given grid is {}'.format(grid_problem(arr))) "
   ]
  },
  {
   "cell_type": "markdown",
   "metadata": {},
   "source": [
    "# Thank You"
   ]
  }
 ],
 "metadata": {
  "kernelspec": {
   "display_name": "Python [conda env:deeplearning] *",
   "language": "python",
   "name": "conda-env-deeplearning-py"
  },
  "language_info": {
   "codemirror_mode": {
    "name": "ipython",
    "version": 3
   },
   "file_extension": ".py",
   "mimetype": "text/x-python",
   "name": "python",
   "nbconvert_exporter": "python",
   "pygments_lexer": "ipython3",
   "version": "3.7.7"
  }
 },
 "nbformat": 4,
 "nbformat_minor": 4
}
